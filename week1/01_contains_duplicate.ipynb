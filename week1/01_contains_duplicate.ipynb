{
 "cells": [
  {
   "attachments": {},
   "cell_type": "markdown",
   "metadata": {},
   "source": [
    "## 217. Contains Duplicate\n",
    "\n",
    "- https://leetcode.com/problems/contains-duplicate/\n",
    "\n",
    "### Question:\n",
    "\n",
    "Given an integer array nums, return true if any value appears at least twice in the array, and return false if every element is distinct.\n",
    "\n",
    "Example:\n",
    "\n",
    "Input: nums = [1,2,3,1] Output: true\n",
    "\n",
    "**Solution**\n",
    "\n",
    "**O(n log n) runtime, O(1) space – Sorting**\n",
    "\n",
    "We can sort the elements in the array first, and then compare each element with its next element. If they are the same, return true. \n",
    "If we reach the end of the array, return false. This solution has O(n log n) runtime and O(1) space because we only use a constant \n",
    "amount of extra space to store variables, regardless of the size of the input.\n",
    "\n",
    "```python\n",
    "def containsDuplicate(nums: List[int]) -> bool:\n",
    "        nums.sort()\n",
    "        for i in range(len(nums) - 1):\n",
    "            if nums[i] == nums[i + 1]:\n",
    "                return True\n",
    "        return False\n",
    "```\n",
    "\n",
    "**O(n) runtime, O(n) space – Hash set**\n",
    "\n",
    "We can use a hash set to store elements as we traverse the array. If an element is already in the hash set, we return true. If we reach the end of the array, \n",
    "return false. This solution has O(n) runtime and O(n) space because we use a hash set to store all n elements of the input.\n",
    "\n",
    "```python\n",
    "def containsDuplicate(nums: List[int]) -> bool:\n",
    "        s = set()\n",
    "        for x in nums:\n",
    "            if x in s:\n",
    "                return True\n",
    "            s.add(x)\n",
    "        return False\n",
    "```"
   ]
  },
  {
   "cell_type": "markdown",
   "metadata": {},
   "source": [
    "If the above code is not clear, write it down 5 times. "
   ]
  },
  {
   "attachments": {},
   "cell_type": "markdown",
   "metadata": {},
   "source": [
    "**1. Solve the above problem 3 times.** "
   ]
  },
  {
   "cell_type": "code",
   "execution_count": 10,
   "metadata": {},
   "outputs": [],
   "source": [
    "# Try1\n",
    "from typing import List\n",
    "\n",
    "\n",
    "def containsDuplicate( nums: List[int]) -> bool:\n",
    "        s = set()\n",
    "        for x in nums:\n",
    "            if x in s:\n",
    "                return True\n",
    "            s.add(x)\n",
    "        return False\n",
    "\n",
    "assert containsDuplicate([1, 2, 3, 1]) == True\n",
    "assert containsDuplicate([1, 2, 3, 4]) == False\n",
    "assert containsDuplicate([1, 1, 1, 3, 3, 4, 3, 2, 4, 2]) == True\n",
    "assert containsDuplicate([1, 2, 3, 4, 5]) == False\n",
    "assert containsDuplicate([]) == False"
   ]
  },
  {
   "attachments": {},
   "cell_type": "markdown",
   "metadata": {},
   "source": [
    "**2. You can do it! Try it again** "
   ]
  },
  {
   "cell_type": "code",
   "execution_count": 12,
   "metadata": {},
   "outputs": [],
   "source": [
    "# Try2\n",
    "def containsDuplicate(nums: List[int]) -> bool:\n",
    "        s = set()\n",
    "        for x in nums:\n",
    "            if x in s:\n",
    "                return True\n",
    "            s.add(x)\n",
    "        return False\n",
    "\n",
    "\n",
    "assert containsDuplicate([1, 2, 3, 1]) == True\n",
    "assert containsDuplicate([1, 2, 3, 4]) == False\n",
    "assert containsDuplicate([1, 1, 1, 3, 3, 4, 3, 2, 4, 2]) == True\n",
    "assert containsDuplicate([1, 2, 3, 4, 5]) == False\n",
    "assert containsDuplicate([]) == False"
   ]
  },
  {
   "attachments": {},
   "cell_type": "markdown",
   "metadata": {},
   "source": [
    "**3. You can do it! Try it again** "
   ]
  },
  {
   "cell_type": "code",
   "execution_count": 19,
   "metadata": {},
   "outputs": [],
   "source": [
    "def containsDuplicate(number: List[int]) -> bool:\n",
    "\ts = set()\n",
    "\tfor x in number:\n",
    "\t\tif x in s:\n",
    "\t\t\treturn True\n",
    "\t\ts.add(x)\n",
    "\treturn False \n",
    "\n",
    "assert containsDuplicate([1, 2, 3, 1]) == True\n",
    "assert containsDuplicate([1, 2, 3, 4]) == False\n",
    "assert containsDuplicate([1, 1, 1, 3, 3, 4, 3, 2, 4, 2]) == True\n",
    "assert containsDuplicate([1, 2, 3, 4, 5]) == False\n",
    "assert containsDuplicate([]) == False"
   ]
  }
 ],
 "metadata": {
  "kernelspec": {
   "display_name": "Python 3",
   "language": "python",
   "name": "python3"
  },
  "language_info": {
   "codemirror_mode": {
    "name": "ipython",
    "version": 3
   },
   "file_extension": ".py",
   "mimetype": "text/x-python",
   "name": "python",
   "nbconvert_exporter": "python",
   "pygments_lexer": "ipython3",
   "version": "3.10.4"
  },
  "orig_nbformat": 4,
  "vscode": {
   "interpreter": {
    "hash": "3ad933181bd8a04b432d3370b9dc3b0662ad032c4dfaa4e4f1596c548f763858"
   }
  }
 },
 "nbformat": 4,
 "nbformat_minor": 2
}
