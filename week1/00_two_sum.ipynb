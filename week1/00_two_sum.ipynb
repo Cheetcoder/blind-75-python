{
 "cells": [
  {
   "attachments": {},
   "cell_type": "markdown",
   "metadata": {},
   "source": [
    "## Two Sum\n",
    "- https://www.lintcode.com/problem/56\n",
    "- https://leetcode.com/problems/two-sum/\n",
    "### Question:\n",
    "\n",
    "Given an array of integers, find two numbers such that they add up to a specific target number.\n",
    "\n",
    "The function `twoSum` should return indices of the two numbers such that they add up to the target, where `index1` must be less than `index2`. Please note that your returned answers (both `index1` and `index2`) are not zero-based.\n",
    "\n",
    "You may assume that each input would have exactly one solution."
   ]
  },
  {
   "attachments": {},
   "cell_type": "markdown",
   "metadata": {},
   "source": [
    "**Solution:**\n",
    "\n",
    "-   **O(n^2) runtime, O(1) space – Brute force:**\n",
    "    \n",
    "    The brute force approach is simple. Loop through each element x and find if there is another value that equals to target – x. As finding another value requires looping through the rest of the array, its runtime complexity is O(n^2).\n",
    "    \n",
    "-   **O(n) runtime, O(n) space – Hash table:**\n",
    "    \n",
    "    We could reduce the runtime complexity of looking up a value to O(1) using a hash map that maps a value to its index."
   ]
  },
  {
   "cell_type": "code",
   "execution_count": 5,
   "metadata": {},
   "outputs": [],
   "source": [
    "# **O(n) runtime, O(n) space – Hash table:**\n",
    "\n",
    "def two_sum(nums: list[int], target: int) -> tuple[int, int]:\n",
    "    num_to_index = {}\n",
    "    for i, num in enumerate(nums):\n",
    "        complement = target - num\n",
    "        if complement in num_to_index:\n",
    "            return num_to_index[complement], i\n",
    "        num_to_index[num] = i\n",
    "    raise ValueError(\"No two numbers in the list add up to the target sum.\")\n",
    "\n",
    "assert two_sum([2, 7, 11, 15], 9), [0, 1]\n",
    "assert two_sum([3, 2, 4], 6), [1, 2]"
   ]
  },
  {
   "cell_type": "code",
   "execution_count": 27,
   "metadata": {},
   "outputs": [
    {
     "name": "stdout",
     "output_type": "stream",
     "text": [
      "Iterate over list using enumerate. \n",
      "\n",
      "0 1\n",
      "1 2\n",
      "2 3\n",
      "\n",
      "Iterate over dictionary is items() \n",
      "\n",
      "foo bar\n",
      "key value\n"
     ]
    }
   ],
   "source": [
    "# Declare function with python typing\n",
    "def two_sum(nums: list[int], target: int) -> tuple[int, int]:\n",
    "    pass\n",
    "\n",
    "# data \n",
    "mylist = [\"1\",\"2\",\"3\"]\n",
    "my_dict = {\"foo\": \"bar\", \"key\": \"value\"}\n",
    "\n",
    "# Control\n",
    "print(f'Iterate over list using enumerate. \\n')\n",
    "for index, value in enumerate(mylist):\n",
    " print(index, value)\n",
    "\n",
    "print(f'\\nIterate over dictionary is items() \\n')\n",
    "for key, value in my_dict.items():\n",
    "    print(key, value)\n",
    "\n",
    "# Exception \n",
    "# raise ValueError(\"No two numbers add up\")"
   ]
  },
  {
   "cell_type": "markdown",
   "metadata": {},
   "source": [
    "If the above code is not clear, write it down 5 times. "
   ]
  },
  {
   "attachments": {},
   "cell_type": "markdown",
   "metadata": {},
   "source": [
    "**1. Solve the above problem 3 times.** "
   ]
  },
  {
   "cell_type": "code",
   "execution_count": 34,
   "metadata": {},
   "outputs": [
    {
     "name": "stdout",
     "output_type": "stream",
     "text": [
      "Elapsed time: 0 minutes, 40.30 seconds\n"
     ]
    }
   ],
   "source": [
    "# Try1\n",
    "def two_sum(nums: list[int], target: int) -> tuple[int]:\n",
    "    seen_dict = {}\n",
    "\n",
    "    for index, value in enumerate(nums):\n",
    "        complement = value - target\n",
    "        if complement in seen_dict:\n",
    "            return index, nums[complement]\n",
    "        seen_dict[value] = index\n",
    "    return -1, -1\n",
    "    \n",
    "\n",
    "assert two_sum([2, 7, 11, 15], 9), [0, 1]\n",
    "assert two_sum([3, 2, 4], 6), [1, 2]\n",
    "time_check()"
   ]
  },
  {
   "attachments": {},
   "cell_type": "markdown",
   "metadata": {},
   "source": [
    "**2. You can do it! Try it again** "
   ]
  },
  {
   "cell_type": "code",
   "execution_count": 33,
   "metadata": {},
   "outputs": [
    {
     "name": "stdout",
     "output_type": "stream",
     "text": [
      "Elapsed time: 0 minutes, 36.03 seconds\n"
     ]
    }
   ],
   "source": [
    "# Try2\n",
    "def two_sum(input: list[int], target: int) -> tuple[int]:\n",
    "    seen_dict = {}\n",
    "\n",
    "    for index, value in enumerate(input):\n",
    "        complement = value - target\n",
    "        if complement in seen_dict:\n",
    "            return index, input[complement]\n",
    "        \n",
    "        seen_dict[value] = index\n",
    "    \n",
    "    return -1, -1\n",
    "\n",
    "assert two_sum([2, 7, 11, 15], 9), [0, 1]\n",
    "assert two_sum([3, 2, 4], 6), [1, 2]\n",
    "\n",
    "time_check()"
   ]
  },
  {
   "attachments": {},
   "cell_type": "markdown",
   "metadata": {},
   "source": [
    "**3. You can do it! Try it again** "
   ]
  },
  {
   "cell_type": "code",
   "execution_count": 19,
   "metadata": {},
   "outputs": [
    {
     "ename": "TypeError",
     "evalue": "two_sum() takes 0 positional arguments but 2 were given",
     "output_type": "error",
     "traceback": [
      "\u001b[0;31m---------------------------------------------------------------------------\u001b[0m",
      "\u001b[0;31mTypeError\u001b[0m                                 Traceback (most recent call last)",
      "Cell \u001b[0;32mIn[19], line 5\u001b[0m\n\u001b[1;32m      2\u001b[0m \u001b[39mdef\u001b[39;00m \u001b[39mtwo_sum\u001b[39m():\n\u001b[1;32m      3\u001b[0m     \u001b[39mpass\u001b[39;00m\n\u001b[0;32m----> 5\u001b[0m \u001b[39massert\u001b[39;00m two_sum([\u001b[39m2\u001b[39;49m, \u001b[39m7\u001b[39;49m, \u001b[39m11\u001b[39;49m, \u001b[39m15\u001b[39;49m], \u001b[39m9\u001b[39;49m), [\u001b[39m0\u001b[39m, \u001b[39m1\u001b[39m]\n\u001b[1;32m      6\u001b[0m \u001b[39massert\u001b[39;00m two_sum([\u001b[39m3\u001b[39m, \u001b[39m2\u001b[39m, \u001b[39m4\u001b[39m], \u001b[39m6\u001b[39m), [\u001b[39m1\u001b[39m, \u001b[39m2\u001b[39m]\n\u001b[1;32m      9\u001b[0m time_check()\n",
      "\u001b[0;31mTypeError\u001b[0m: two_sum() takes 0 positional arguments but 2 were given"
     ]
    }
   ],
   "source": [
    "# Try3\n",
    "def two_sum():\n",
    "    pass\n",
    "\n",
    "assert two_sum([2, 7, 11, 15], 9), [0, 1]\n",
    "assert two_sum([3, 2, 4], 6), [1, 2]\n",
    "\n",
    "\n",
    "time_check()"
   ]
  },
  {
   "cell_type": "code",
   "execution_count": 16,
   "metadata": {},
   "outputs": [
    {
     "name": "stdout",
     "output_type": "stream",
     "text": [
      "Elapsed time: 0 minutes, 3.46 seconds\n"
     ]
    }
   ],
   "source": [
    "logging.info(f'Done: with Two Sum time taken {time_check()}')"
   ]
  }
 ],
 "metadata": {
  "kernelspec": {
   "display_name": "Python 3",
   "language": "python",
   "name": "python3"
  },
  "language_info": {
   "codemirror_mode": {
    "name": "ipython",
    "version": 3
   },
   "file_extension": ".py",
   "mimetype": "text/x-python",
   "name": "python",
   "nbconvert_exporter": "python",
   "pygments_lexer": "ipython3",
   "version": "3.10.4"
  },
  "orig_nbformat": 4,
  "vscode": {
   "interpreter": {
    "hash": "3ad933181bd8a04b432d3370b9dc3b0662ad032c4dfaa4e4f1596c548f763858"
   }
  }
 },
 "nbformat": 4,
 "nbformat_minor": 2
}
