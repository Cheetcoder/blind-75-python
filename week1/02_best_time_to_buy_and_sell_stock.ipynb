{
 "cells": [
  {
   "attachments": {},
   "cell_type": "markdown",
   "metadata": {},
   "source": [
    "# Best Time to Buy and Sell Stock\n",
    "\n",
    "You are given an array prices where prices[i] is the price of a given stock on the ith day. You want to maximize your profit by choosing a single day to buy one stock and choosing a different day in the future to sell that stock. Return the maximum profit you can achieve from this transaction. If you cannot achieve any profit, return 0.\n",
    "\n",
    "Example:\n",
    "Input: prices = [7,1,5,3,6,4]\n",
    "Output: 5\n",
    "\n",
    "\n",
    "** Example Questions Candidate Might Ask:**\n",
    "1. Can I assume that the prices array will always have a positive length?\n",
    "2. What should I return if the maximum profit is negative?\n",
    "3. Can I modify the input prices array, or should I create a new array for my solution?\n",
    "4. Can you provide more examples of input and expected output to help me understand the problem better?\n",
    "\n",
    "**O(n^2) runtime, O(1) space - Brute Force:** \n",
    "\n",
    "The brute force approach loops through every pair of indices in the array, calculates the potential profit, and keeps track of the maximum profit seen so far. The time complexity of this approach is O(n^2), and the space complexity is O(1), as we only need a few variables to keep track of the maximum profit.\n",
    "\n",
    "```python\n",
    "def maxProfit(prices):\n",
    "    max_profit = 0\n",
    "    for i in range(len(prices)):\n",
    "        for j in range(i + 1, len(prices)):\n",
    "            max_profit = max(max_profit, prices[j] - prices[i])\n",
    "    return max_profit\n",
    "```\n",
    "\n",
    "**O(n) runtime, O(1) space - Optimal:** \n",
    "\n",
    "The optimal approach also keeps track of the minimum price seen so far, and calculates the potential profit for each price in the array. The time complexity of this approach is O(n), as we only loop through the array once, and the space complexity is O(1), as we only need a few variables to keep track of the minimum price and the maximum profit. \n",
    "\n",
    "```python\n",
    "def maxProfit(prices):\n",
    "    min_price = float('inf')\n",
    "    max_profit = 0\n",
    "    for price in prices:\n",
    "        if price < min_price:\n",
    "            min_price = price\n",
    "        else:\n",
    "            max_profit = max(max_profit, price - min_price)\n",
    "    return max_profit\n",
    "```\n",
    "\n",
    "**Explain:** \n",
    "Imagine you have a lemonade stand, and you want to make as much money as possible by selling lemonade. You have a list of prices that you can sell lemonade for each day.\n",
    "\n",
    "The code you provided helps you find the best day to buy the ingredients for your lemonade and the best day to sell it, so you can make the most money.\n",
    "\n",
    "First, we start with a very big number, which is bigger than any price we might see in the list. We call this `min_price`.\n",
    "\n",
    "Next, we start looping through the prices for each day.\n",
    "\n",
    "If the price for a particular day is smaller than the `min_price`, we update `min_price` to be the smaller price. This way, we make sure we always keep track of the smallest price we have seen so far.\n",
    "\n",
    "If the price for a particular day is not smaller than `min_price`, we calculate the potential profit we could make by selling the lemonade on that day, given that we bought the ingredients on the day with the smallest price we have seen so far. To do this, we subtract `min_price` from the current price.\n",
    "\n",
    "We then keep track of the maximum profit seen so far by using the `max` function.\n",
    "\n",
    "At the end, we return the maximum profit we have seen so far, which is the most money we could make from selling lemonade.\n"
   ]
  },
  {
   "cell_type": "code",
   "execution_count": 1,
   "metadata": {},
   "outputs": [
    {
     "ename": "TypeError",
     "evalue": "maxProfit() takes 0 positional arguments but 1 was given",
     "output_type": "error",
     "traceback": [
      "\u001b[0;31m---------------------------------------------------------------------------\u001b[0m",
      "\u001b[0;31mTypeError\u001b[0m                                 Traceback (most recent call last)",
      "Cell \u001b[0;32mIn[1], line 7\u001b[0m\n\u001b[1;32m      4\u001b[0m \u001b[39mdef\u001b[39;00m \u001b[39mmaxProfit\u001b[39m():\n\u001b[1;32m      5\u001b[0m     \u001b[39mpass\u001b[39;00m\n\u001b[0;32m----> 7\u001b[0m \u001b[39massert\u001b[39;00m maxProfit([\u001b[39m7\u001b[39;49m,\u001b[39m1\u001b[39;49m,\u001b[39m5\u001b[39;49m,\u001b[39m3\u001b[39;49m,\u001b[39m6\u001b[39;49m,\u001b[39m4\u001b[39;49m]) \u001b[39m==\u001b[39m \u001b[39m5\u001b[39m\n\u001b[1;32m      8\u001b[0m \u001b[39massert\u001b[39;00m maxProfit([\u001b[39m7\u001b[39m,\u001b[39m6\u001b[39m,\u001b[39m4\u001b[39m,\u001b[39m3\u001b[39m,\u001b[39m1\u001b[39m]) \u001b[39m==\u001b[39m \u001b[39m0\u001b[39m\n\u001b[1;32m      9\u001b[0m \u001b[39massert\u001b[39;00m maxProfit([\u001b[39m2\u001b[39m,\u001b[39m4\u001b[39m,\u001b[39m1\u001b[39m]) \u001b[39m==\u001b[39m \u001b[39m2\u001b[39m\n",
      "\u001b[0;31mTypeError\u001b[0m: maxProfit() takes 0 positional arguments but 1 was given"
     ]
    }
   ],
   "source": [
    "# Let's try it a few times\n",
    "# Try1\n",
    "\n",
    "def maxProfit():\n",
    "    pass\n",
    "\n",
    "assert maxProfit([7,1,5,3,6,4]) == 5\n",
    "assert maxProfit([7,6,4,3,1]) == 0\n",
    "assert maxProfit([2,4,1]) == 2\n",
    "assert maxProfit([2,4,6,8,3]) == 6\n",
    "assert maxProfit([10,9,8,7,6,5,4,3,2,1]) == 0"
   ]
  },
  {
   "cell_type": "code",
   "execution_count": null,
   "metadata": {},
   "outputs": [],
   "source": [
    "# Let's try it a few times\n",
    "# Try1\n",
    "\n",
    "def maxProfit():\n",
    "    pass\n",
    "\n",
    "assert maxProfit([7,1,5,3,6,4]) == 5\n",
    "assert maxProfit([7,6,4,3,1]) == 0\n",
    "assert maxProfit([2,4,1]) == 2\n",
    "assert maxProfit([2,4,6,8,3]) == 6\n",
    "assert maxProfit([10,9,8,7,6,5,4,3,2,1]) == 0"
   ]
  },
  {
   "cell_type": "code",
   "execution_count": null,
   "metadata": {},
   "outputs": [],
   "source": [
    "# Let's try it a few times\n",
    "# Try1\n",
    "\n",
    "def maxProfit():\n",
    "    pass\n",
    "\n",
    "assert maxProfit([7,1,5,3,6,4]) == 5\n",
    "assert maxProfit([7,6,4,3,1]) == 0\n",
    "assert maxProfit([2,4,1]) == 2\n",
    "assert maxProfit([2,4,6,8,3]) == 6\n",
    "assert maxProfit([10,9,8,7,6,5,4,3,2,1]) == 0"
   ]
  },
  {
   "cell_type": "code",
   "execution_count": null,
   "metadata": {},
   "outputs": [],
   "source": [
    "# Let's try it a few times\n",
    "# Try1\n",
    "\n",
    "def maxProfit():\n",
    "    pass\n",
    "\n",
    "assert maxProfit([7,1,5,3,6,4]) == 5\n",
    "assert maxProfit([7,6,4,3,1]) == 0\n",
    "assert maxProfit([2,4,1]) == 2\n",
    "assert maxProfit([2,4,6,8,3]) == 6\n",
    "assert maxProfit([10,9,8,7,6,5,4,3,2,1]) == 0"
   ]
  }
 ],
 "metadata": {
  "kernelspec": {
   "display_name": "Python 3",
   "language": "python",
   "name": "python3"
  },
  "language_info": {
   "codemirror_mode": {
    "name": "ipython",
    "version": 3
   },
   "file_extension": ".py",
   "mimetype": "text/x-python",
   "name": "python",
   "nbconvert_exporter": "python",
   "pygments_lexer": "ipython3",
   "version": "3.10.4"
  },
  "orig_nbformat": 4,
  "vscode": {
   "interpreter": {
    "hash": "3ad933181bd8a04b432d3370b9dc3b0662ad032c4dfaa4e4f1596c548f763858"
   }
  }
 },
 "nbformat": 4,
 "nbformat_minor": 2
}
