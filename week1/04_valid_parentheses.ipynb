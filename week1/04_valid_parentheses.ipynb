{
 "cells": [
  {
   "attachments": {},
   "cell_type": "markdown",
   "metadata": {},
   "source": [
    "# 20. Valid Parentheses\n",
    "- https://leetcode.com/problems/valid-parentheses/\n",
    "\n",
    "**Question:**\n",
    "\n",
    "Given a string `s` containing just the characters `(`, `)`, `{`, `}`, `[`, and `]`, determine if the input string is valid. An input string is valid if:\n",
    "\n",
    "1.  Open brackets must be closed by the same type of brackets.\n",
    "2.  Open brackets must be closed in the correct order.\n",
    "3.  Every close bracket has a corresponding open bracket of the same type.\n",
    "\n",
    "**Example 1**\n",
    "\n",
    "input: s = \"()\"\n",
    "output: True\n",
    "\n",
    "**Example 2**\n",
    "\n",
    "input:  s = \"()[]{}\"\n",
    "output: True\n",
    "\n",
    "**Example 3**\n",
    "\n",
    "input: s = \"(]\"\n",
    "Output: False\n",
    "\n",
    "**O(n) runtime, O(n) space – Stack:**\n",
    "\n",
    "We can use a stack to keep track of the open brackets as we iterate through the string. Whenever we encounter a close bracket, we pop the top element from the stack. If the popped element does not match the current close bracket, then the string is not valid. At the end, if the stack is not empty, then the string is not valid either.\n",
    "\n",
    "```python\n",
    "def isValid(s):\n",
    "    stack = []\n",
    "    mapping = {')': '(', '}': '{', ']': '['}\n",
    "\n",
    "    for char in s:\n",
    "        if char in mapping:\n",
    "            if not stack or stack.pop() != mapping[char]:\n",
    "                return False\n",
    "        else:\n",
    "            stack.append(char)\n",
    "\n",
    "    return len(stack) == 0\n",
    "```\n"
   ]
  },
  {
   "cell_type": "code",
   "execution_count": 2,
   "metadata": {},
   "outputs": [],
   "source": [
    "# Try it!\n",
    "\n",
    "def isValid(s):\n",
    "    stack = []\n",
    "    mapping = {')': '(', '}': '{', ']': '['}\n",
    "\n",
    "    for char in s:\n",
    "        if char in mapping:\n",
    "            if not stack or stack.pop() != mapping[char]:\n",
    "                return False\n",
    "        else:\n",
    "            stack.append(char)\n",
    "\n",
    "    return len(stack) == 0\n",
    "\n",
    "assert isValid(\"()\") == True\n",
    "assert isValid(\"(]\") == False\n",
    "assert isValid(\"\") == True\n",
    "assert isValid(\"({[\") == False"
   ]
  },
  {
   "cell_type": "code",
   "execution_count": 5,
   "metadata": {},
   "outputs": [],
   "source": [
    "def isValid(s: str) -> bool:\n",
    "        stack = []\n",
    "        mapping = {')': '(', '}': '{', ']': '['}\n",
    "\n",
    "        for char in s:\n",
    "            if char in mapping:\n",
    "                if not stack or stack.pop() != mapping[char]:\n",
    "                    return False\n",
    "            else:\n",
    "                stack.append(char)\n",
    "\n",
    "        return len(stack) == 0\n",
    "\n",
    "    \n",
    "assert isValid(\"()\") == True\n",
    "assert isValid(\"(]\") == False\n",
    "assert isValid(\"\") == True\n",
    "assert isValid(\"({[\") == False"
   ]
  },
  {
   "cell_type": "code",
   "execution_count": 2,
   "metadata": {},
   "outputs": [],
   "source": [
    "# check vlaid paren\n",
    "\n",
    "def isValid(input: str) -> bool:\n",
    "    stack = []\n",
    "    mapping = {')': '(', '}': '{', ']': '['}\n",
    "    \n",
    "    \n",
    "    for character in input:\n",
    "        if character in mapping:\n",
    "            if not stack or mapping[character] != stack.pop():\n",
    "                return False\n",
    "        else:\n",
    "            stack.append(character)\n",
    "    \n",
    "    return len(stack) == 0\n",
    "            \n",
    "\n",
    "assert isValid(\"()\") == True\n",
    "assert isValid(\"(]\") == False\n",
    "assert isValid(\"\") == True\n",
    "assert isValid(\"({[\") == False"
   ]
  }
 ],
 "metadata": {
  "kernelspec": {
   "display_name": "Python 3",
   "language": "python",
   "name": "python3"
  },
  "language_info": {
   "codemirror_mode": {
    "name": "ipython",
    "version": 3
   },
   "file_extension": ".py",
   "mimetype": "text/x-python",
   "name": "python",
   "nbconvert_exporter": "python",
   "pygments_lexer": "ipython3",
   "version": "3.10.9"
  },
  "orig_nbformat": 4,
  "vscode": {
   "interpreter": {
    "hash": "8f9328efe3468e6c370cdfed98702d3986faf748314d5bcec59da615d65baa7a"
   }
  }
 },
 "nbformat": 4,
 "nbformat_minor": 2
}
