{
 "cells": [
  {
   "attachments": {},
   "cell_type": "markdown",
   "metadata": {},
   "source": [
    "# 53. Maximum Subarray\n",
    "\n",
    "-   [https://leetcode.com/problems/maximum-subarray/](https://leetcode.com/problems/maximum-subarray/)\n",
    "\n",
    "**Question:**\n",
    "\n",
    "Given an integer array `nums`, find the contiguous subarray (containing at least one number) which has the largest sum and return its sum.\n",
    "\n",
    "**Example 1:**\n",
    "\n",
    "Input: nums = [-2,1,-3,4,-1,2,1,-5,4] Output: 6 Explanation: The contiguous subarray [4,-1,2,1] has the largest sum 6.\n",
    "\n",
    "**Example 2:**\n",
    "\n",
    "Input: nums = [1] Output: 1 Explanation: The contiguous subarray [1] has the largest sum 1.\n",
    "\n",
    "**Example 3:**\n",
    "\n",
    "Input: nums = [5,4,-1,7,8] Output: 23 Explanation: The contiguous subarray [5,4,-1,7,8] has the largest sum 23.\n",
    "\n",
    "**O(n) runtime, O(1) space – Kadane's Algorithm:**\n",
    "\n",
    "Kadane's algorithm is a dynamic programming approach to solve the maximum subarray problem. The algorithm keeps track of the maximum sum contiguous subarray seen so far and the maximum sum contiguous subarray ending at each position in the array. We start with `max_so_far` and `max_ending_here` initially set to the first element of the array. Then, we iterate through the array, updating `max_ending_here` and `max_so_far` at each step.\n",
    "\n",
    "\n",
    "```python\n",
    "def maxSubArray(nums):\n",
    "    max_so_far = max_ending_here = nums[0]\n",
    "\n",
    "    for i in range(1, len(nums)):\n",
    "        max_ending_here = max(nums[i], max_ending_here + nums[i])\n",
    "        max_so_far = max(max_so_far, max_ending_here)\n",
    "\n",
    "    return max_so_far\n",
    "\n",
    "```"
   ]
  },
  {
   "cell_type": "code",
   "execution_count": null,
   "metadata": {},
   "outputs": [],
   "source": [
    "def maxSubArray(nums):\n",
    "    max_so_far = max_ending_here = nums[0]\n",
    "\n",
    "    for i in range(1, len(nums)):\n",
    "        max_ending_here = max(nums[i], max_ending_here + nums[i])\n",
    "        max_so_far = max(max_so_far, max_ending_here)\n",
    "\n",
    "    return max_so_far\n",
    "\n",
    "\n",
    "assert maxSubArray([-2,1,-3,4,-1,2,1,-5,4]) == 6\n",
    "assert maxSubArray([1]) == 1\n",
    "assert maxSubArray([5,4,-1,7,8]) == 23"
   ]
  },
  {
   "cell_type": "code",
   "execution_count": null,
   "metadata": {},
   "outputs": [],
   "source": [
    "def maxSubArray(nums):\n",
    "    max_so_far = max_ending_here = nums[0]\n",
    "    \n",
    "    for i in range(1, len(nums)):\n",
    "        max_ending_here = max(nums[i], max_ending_here + nums[i])\n",
    "        max_so_far = max(max_so_far, max_ending_here)\n",
    "    return max_so_far\n",
    "        \n",
    "assert maxSubArray([-2,1,-3,4,-1,2,1,-5,4]) == 6\n",
    "assert maxSubArray([1]) == 1\n",
    "assert maxSubArray([5,4,-1,7,8]) == 23"
   ]
  },
  {
   "cell_type": "code",
   "execution_count": 6,
   "metadata": {},
   "outputs": [],
   "source": [
    "def maxSubArray(nums):\n",
    "    max_here = nums[0]\n",
    "    max_so_far = nums[0]\n",
    "    \n",
    "    for i in range(1, len(nums)):\n",
    "        max_here = max(max_here + nums[i], nums[i])\n",
    "        max_so_far = max(max_so_far, max_here)\n",
    "    return max_so_far\n",
    "\n",
    "assert maxSubArray([-2,1,-3,4,-1,2,1,-5,4]) == 6\n",
    "assert maxSubArray([1]) == 1\n",
    "assert maxSubArray([5,4,-1,7,8]) == 23\n"
   ]
  },
  {
   "cell_type": "code",
   "execution_count": null,
   "metadata": {},
   "outputs": [],
   "source": [
    "assert maxSubArray([-2,1,-3,4,-1,2,1,-5,4]) == 6\n",
    "assert maxSubArray([1]) == 1\n",
    "assert maxSubArray([5,4,-1,7,8]) == 23"
   ]
  },
  {
   "cell_type": "code",
   "execution_count": null,
   "metadata": {},
   "outputs": [],
   "source": [
    "assert maxSubArray([-2,1,-3,4,-1,2,1,-5,4]) == 6\n",
    "assert maxSubArray([1]) == 1\n",
    "assert maxSubArray([5,4,-1,7,8]) == 23"
   ]
  }
 ],
 "metadata": {
  "kernelspec": {
   "display_name": "Python 3",
   "language": "python",
   "name": "python3"
  },
  "language_info": {
   "codemirror_mode": {
    "name": "ipython",
    "version": 3
   },
   "file_extension": ".py",
   "mimetype": "text/x-python",
   "name": "python",
   "nbconvert_exporter": "python",
   "pygments_lexer": "ipython3",
   "version": "3.10.9"
  },
  "orig_nbformat": 4,
  "vscode": {
   "interpreter": {
    "hash": "8f9328efe3468e6c370cdfed98702d3986faf748314d5bcec59da615d65baa7a"
   }
  }
 },
 "nbformat": 4,
 "nbformat_minor": 2
}
